{
 "cells": [
  {
   "cell_type": "code",
   "execution_count": 1,
   "metadata": {},
   "outputs": [
    {
     "name": "stderr",
     "output_type": "stream",
     "text": [
      "C:\\Users\\hiranMain\\Anaconda3\\lib\\site-packages\\h5py\\__init__.py:36: FutureWarning: Conversion of the second argument of issubdtype from `float` to `np.floating` is deprecated. In future, it will be treated as `np.float64 == np.dtype(float).type`.\n",
      "  from ._conv import register_converters as _register_converters\n"
     ]
    },
    {
     "name": "stdout",
     "output_type": "stream",
     "text": [
      "<class 'pandas.core.frame.DataFrame'>\n",
      "RangeIndex: 28832 entries, 0 to 28831\n",
      "Data columns (total 12 columns):\n",
      "0     28832 non-null int64\n",
      "1     28832 non-null int64\n",
      "2     28832 non-null int64\n",
      "3     28832 non-null float64\n",
      "4     28832 non-null int64\n",
      "5     28832 non-null int64\n",
      "6     28832 non-null int64\n",
      "7     28832 non-null int64\n",
      "8     28832 non-null float64\n",
      "9     28832 non-null float64\n",
      "10    28832 non-null float64\n",
      "11    28832 non-null int64\n",
      "dtypes: float64(4), int64(8)\n",
      "memory usage: 2.6 MB\n",
      "None\n",
      "accuracy 0.7574916759156493\n",
      "precision 0.7575800112296462\n",
      "recall 0.9961240310077519\n",
      "f1 0.860628288949131\n",
      "정답율 0.7574916759156493\n",
      "precision_score 0.7574916759156493\n",
      "리포트              precision    recall  f1-score   support\n",
      "\n",
      "        0.0       0.75      0.04      0.07      1790\n",
      "        1.0       0.76      1.00      0.86      5418\n",
      "\n",
      "avg / total       0.76      0.76      0.66      7208\n",
      "\n"
     ]
    }
   ],
   "source": [
    "\n",
    "#SVM활용하여 모델 만들기\n",
    "from sklearn import svm, metrics\n",
    "import random, re\n",
    "import numpy\n",
    "import pandas as pd\n",
    "import tensorflow as tf\n",
    "from sklearn.model_selection import train_test_split\n",
    "\n",
    "\n",
    "#학습분석 정보 데이터 읽어 들이기\n",
    "# seed 값 설정\n",
    "seed = 0\n",
    "numpy.random.seed(seed)\n",
    "tf.set_random_seed(seed)\n",
    "\n",
    "# 데이터 입력\n",
    "df_pre = pd.read_csv('./dataset/studyset_2013_2017_fact12.csv', header=None)\n",
    "df = df_pre.sample(frac=1)\n",
    "print(df_pre.info())\n",
    "\n",
    "#2) data 설정\n",
    "dataset = df.values\n",
    "X_train = dataset[:,0:10]\n",
    "Y_label = dataset[:,11]\n",
    "\n",
    "\n",
    "# 훈련 데이터와 테스트 데이터로 분리하기\n",
    "X_train, X_test, y_train, y_test = train_test_split(X_train, Y_label)\n",
    "\n",
    "\n",
    "\n",
    "clf = svm.SVC()\n",
    "clf.fit(X_train, y_train)\n",
    "y_predict = clf.predict(X_test)\n",
    "\n",
    "ac_score = metrics.accuracy_score(y_test, y_predict)\n",
    "\n",
    "cl_report = metrics.classification_report(y_test, y_predict)\n",
    "print('accuracy', metrics.accuracy_score(y_test,y_predict) )\n",
    "\n",
    "print('precision', metrics.precision_score(y_test,y_predict) )\n",
    "\n",
    "print('recall', metrics.recall_score(y_test,y_predict) )\n",
    "\n",
    "print('f1', metrics.f1_score(y_test,y_predict) )\n",
    "\n",
    "print(\"정답율\" , ac_score)\n",
    "print(\"precision_score\" , ac_score)\n",
    "\n",
    "\n",
    "print(\"리포트\" , cl_report)"
   ]
  },
  {
   "cell_type": "code",
   "execution_count": null,
   "metadata": {},
   "outputs": [],
   "source": []
  },
  {
   "cell_type": "code",
   "execution_count": null,
   "metadata": {},
   "outputs": [],
   "source": []
  }
 ],
 "metadata": {
  "kernelspec": {
   "display_name": "Python 3",
   "language": "python",
   "name": "python3"
  },
  "language_info": {
   "codemirror_mode": {
    "name": "ipython",
    "version": 3
   },
   "file_extension": ".py",
   "mimetype": "text/x-python",
   "name": "python",
   "nbconvert_exporter": "python",
   "pygments_lexer": "ipython3",
   "version": "3.6.4"
  }
 },
 "nbformat": 4,
 "nbformat_minor": 2
}
